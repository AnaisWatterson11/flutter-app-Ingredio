{
 "cells": [
  {
   "cell_type": "code",
   "execution_count": 24,
   "metadata": {},
   "outputs": [],
   "source": [
    "import pandas as pd\n",
    "\n",
    "# Charger le fichier CSV\n",
    "file_path = \"recettes.csv\"\n",
    "df = pd.read_csv(file_path, encoding=\"utf-8\")"
   ]
  },
  {
   "cell_type": "code",
   "execution_count": 21,
   "metadata": {},
   "outputs": [
    {
     "name": "stdout",
     "output_type": "stream",
     "text": [
      "Aucun lien redondant trouvé.\n",
      "\n",
      "Tous les liens redondants appartiennent à la même catégorie.\n"
     ]
    }
   ],
   "source": [
    "import pandas as pd\n",
    "\n",
    "# Charger le fichier CSV\n",
    "df = pd.read_csv(\"recipe_links_filtered.csv\")\n",
    "\n",
    "# Vérifier les doublons sur la colonne des liens\n",
    "duplicates = df[df.duplicated(subset=['Recipe_Link'], keep=False)]  # `keep=False` affiche tous les doublons\n",
    "\n",
    "# Afficher les doublons avec leur catégorie\n",
    "if not duplicates.empty:\n",
    "    print(\"Exemples de liens redondants avec leurs catégories :\\n\")\n",
    "    print(duplicates.sort_values(by=['Recipe_Link']).head(20))  # Trier par lien pour mieux voir les doublons\n",
    "else:\n",
    "    print(\"Aucun lien redondant trouvé.\")\n",
    "\n",
    "# Vérifier si un même lien appartient à plusieurs catégories\n",
    "category_check = duplicates.groupby('Recipe_Link')['Categories'].nunique().reset_index()\n",
    "multiple_categories = category_check[category_check['Categories'] > 1]\n",
    "\n",
    "# Afficher les liens qui apparaissent dans plusieurs catégories\n",
    "if not multiple_categories.empty:\n",
    "    print(\"\\nLiens qui appartiennent à plusieurs catégories :\\n\")\n",
    "    print(multiple_categories)\n",
    "else:\n",
    "    print(\"\\nTous les liens redondants appartiennent à la même catégorie.\")\n",
    "\n"
   ]
  },
  {
   "cell_type": "code",
   "execution_count": 25,
   "metadata": {},
   "outputs": [
    {
     "name": "stdout",
     "output_type": "stream",
     "text": [
      "Dimensions du fichier (lignes, colonnes) : (8739, 11)\n"
     ]
    }
   ],
   "source": [
    "# Afficher la dimension du fichier\n",
    "print(\"Dimensions du fichier (lignes, colonnes) :\", df.shape)"
   ]
  },
  {
   "cell_type": "code",
   "execution_count": 26,
   "metadata": {},
   "outputs": [
    {
     "name": "stdout",
     "output_type": "stream",
     "text": [
      "\n",
      "📋 Aperçu des 5 premières lignes :\n",
      "  Catégorie                                     Nom  Calories    Coût total   \n",
      "0  Apéritif   Rillettes de chorizo facile et rapide  181 Kcal    1.95Euros€  \\\n",
      "1  Apéritif           Torsades de pesto et parmesan  240 Kcal     1.8Euros€   \n",
      "2  Apéritif  Rillettes de sardines simple et rapide   31 Kcal    1.68Euros€   \n",
      "3  Apéritif          Toasts au saumon et à l'avocat  178 Kcal  Non spécifié   \n",
      "4  Apéritif          Biscuits apéritif faits maison  114 Kcal    0.43Euros€   \n",
      "\n",
      "  Coût par part Temps de préparation Temps de cuisson   \n",
      "0  (0.32€/part)               10 min           10 min  \\\n",
      "1   (0.3€/part)               10 min           10 min   \n",
      "2  (0.17€/part)         Non spécifié     Non spécifié   \n",
      "3  Non spécifié         Non spécifié     Non spécifié   \n",
      "4  (0.04€/part)               20 min           15 min   \n",
      "\n",
      "                                         Ingrédients   \n",
      "0  200gr dechorizo; 5 cl de lait; 100gr de fromag...  \\\n",
      "1  1pâte feuilletée; 2c. à soupe depesto(2 à 3 ca...   \n",
      "2  1 boîte de sardine à l'huile (135 gr); 70 gr d...   \n",
      "3  150 gr desaumonfumé; 1avocat; 16blinis; 1 pinc...   \n",
      "4  200 gr de farine; 1oeuf; 1 c. àcaféde sel; 1 c...   \n",
      "\n",
      "                                              Étapes   \n",
      "0  Peler le chorizo et le couper en morceaux. | D...  \\\n",
      "1  Étalez le pesto sur votre pâte feuilletée, pui...   \n",
      "2  Sortez les sardines de l'huile et ôtez les arê...   \n",
      "3  Coupez le saumon et l'avocat en petits morceau...   \n",
      "4  Dans un saladier, mélanger tous les ingrédient...   \n",
      "\n",
      "                                               Image   \n",
      "0  https://www.ptitchef.com/imgupl/recipe/rillett...  \\\n",
      "1  https://www.ptitchef.com/imgupl/recipe/torsade...   \n",
      "2  https://www.ptitchef.com/imgupl/recipe/rillett...   \n",
      "3  https://www.ptitchef.com/imgupl/recipe/toasts-...   \n",
      "4  https://www.ptitchef.com/imgupl/recipe/biscuit...   \n",
      "\n",
      "                                                 URL  \n",
      "0  https://www.ptitchef.com/recettes/aperitif/ril...  \n",
      "1  https://www.ptitchef.com/recettes/aperitif/tor...  \n",
      "2  https://www.ptitchef.com/recettes/aperitif/ril...  \n",
      "3  https://www.ptitchef.com/recettes/aperitif/toa...  \n",
      "4  https://www.ptitchef.com/recettes/aperitif/bis...  \n"
     ]
    }
   ],
   "source": [
    "# Afficher les 5 premières lignes\n",
    "print(\"\\n📋 Aperçu des 5 premières lignes :\")\n",
    "print(df.head())"
   ]
  },
  {
   "cell_type": "code",
   "execution_count": 28,
   "metadata": {},
   "outputs": [
    {
     "name": "stdout",
     "output_type": "stream",
     "text": [
      "📌 Valeurs manquantes par colonne :\n",
      "Ingrédients    32\n",
      "Étapes         32\n",
      "dtype: int64\n"
     ]
    }
   ],
   "source": [
    "# Afficher le nombre de valeurs manquantes par colonne\n",
    "missing_values = df.isnull().sum()\n",
    "\n",
    "# Afficher les colonnes avec des valeurs manquantes\n",
    "print(\"📌 Valeurs manquantes par colonne :\")\n",
    "print(missing_values[missing_values > 0])"
   ]
  },
  {
   "cell_type": "code",
   "execution_count": 29,
   "metadata": {},
   "outputs": [
    {
     "name": "stdout",
     "output_type": "stream",
     "text": [
      "\n",
      " Vérification spécifique des valeurs manquantes pour une colonne (par exemple 'Calories') :\n",
      "0\n"
     ]
    }
   ],
   "source": [
    "print(\"\\n Vérification spécifique des valeurs manquantes pour une colonne (par exemple 'Calories') :\")\n",
    "print(df['Calories'].isnull().sum())"
   ]
  },
  {
   "cell_type": "code",
   "execution_count": 11,
   "metadata": {},
   "outputs": [
    {
     "name": "stdout",
     "output_type": "stream",
     "text": [
      "\n",
      " Vérification spécifique des valeurs manquantes pour une colonne (par exemple 'Calories') :\n",
      "0       1pâte feuilletée; Sauce tomate; Jambon; Fromag...\n",
      "1       1pâte feuilletée; 150g de tranches desaumonfum...\n",
      "2       6 tranches desaumonfumé; 200 gr de fromage fra...\n",
      "3       1pâte feuilletée; 2c. à soupe depesto(2 à 3 ca...\n",
      "4       80 gr de farine; 50 gr de beurre; 13 cl d'eau;...\n",
      "                              ...                        \n",
      "8062    2 bellescarottes; 1 beaupanais; 2pommes de ter...\n",
      "8063    500 g decarottes; 500 g depommes de terre; 1 o...\n",
      "8064    1 kg d'endives; 150 g deroquefort; 200 g de fr...\n",
      "8065    4endives; 150 g d'allumettes delardonsfumés; 2...\n",
      "8066    1 blanc de poireaux; 50 g dechampignons; 10 g ...\n",
      "Name: Ingrédients, Length: 8067, dtype: object\n"
     ]
    }
   ],
   "source": [
    "print(\"\\n Vérification spécifique des valeurs manquantes pour une colonne (par exemple 'Calories') :\")\n",
    "print(df['Ingrédients'])"
   ]
  },
  {
   "cell_type": "code",
   "execution_count": 13,
   "metadata": {},
   "outputs": [],
   "source": [
    "\n",
    "# Vérifier les recettes qui n'ont ni ingrédients ni étapes\n",
    "missing_ingredients_and_steps = df[df['Ingrédients'].isnull() & df['Étapes'].isnull()]\n"
   ]
  },
  {
   "cell_type": "code",
   "execution_count": 30,
   "metadata": {},
   "outputs": [
    {
     "name": "stdout",
     "output_type": "stream",
     "text": [
      "\n",
      "📌 Recettes sans ingrédients et sans étapes :\n",
      "           Catégorie                                                Nom   \n",
      "5           Apéritif  7 apéritifs de dernière minute pour le dîner :...  \\\n",
      "11          Apéritif  LA recette parfaite pour les mordus de fromage...   \n",
      "31          Apéritif  Ces recettes chics et pas chères qui vont révo...   \n",
      "37          Apéritif  Ces 6 recettes végétariennes parfaites pour vo...   \n",
      "1017          Entrée  Voici 5 recettes d'entrées sans cuisson et sup...   \n",
      "1023          Entrée             Apéritifs et entrées avec du Foie gras   \n",
      "1043          Entrée                 4 types d'entrées pour les enfants   \n",
      "1049          Entrée  Nouvel An 100 % végétalien : 5 recettes simple...   \n",
      "2029            Plat  Pour le réveillon du Nouvel An, vaut-il mieux ...   \n",
      "2035            Plat  Vous utilisez sûrement mal la fleur de sel, et...   \n",
      "2055            Plat  Ces 10 plats autrefois dédaignés sont désormai...   \n",
      "2061            Plat  Gratin parfait : découvrez les secrets d’une t...   \n",
      "3041         Dessert  Rappel produit : ce flan nappé au caramel reti...   \n",
      "3047         Dessert  Éblouissez vos convives avec ces 8 desserts in...   \n",
      "3067         Dessert  Attention : des morceaux de verre signalés dan...   \n",
      "3073         Dessert  Vous avez reçu un Air Fryer à Noël? Réalisez c...   \n",
      "4053          Goûter  Vous avez reçu un Air Fryer à Noël? Réalisez c...   \n",
      "4059          Goûter           Nos recettes incroyables pour le goûter!   \n",
      "4079          Goûter  Des goûters maison irrésistibles pour la rentr...   \n",
      "4085          Goûter  Le goûter d'hiver à faire avec seulement 2 ing...   \n",
      "5065         Boisson  Vous pensiez que l'eau était la meilleure pour...   \n",
      "5071         Boisson  Boire ce thé japonais réduirait considérableme...   \n",
      "5091         Boisson  Vin chaud maison : la boisson de Noël qui réch...   \n",
      "5097         Boisson  Reflux gastro-œsophagien : 8 aliments et boiss...   \n",
      "5595  Accompagnement  Ne cherchez plus d'accompagnement pour votre p...   \n",
      "5601  Accompagnement       Quel accompagnement pour votre rôti de porc?   \n",
      "5621  Accompagnement  6 recettes irrésistibles à base de pommes de t...   \n",
      "5627  Accompagnement  Vos invités seront bouche bée par cet accompag...   \n",
      "6052           Autre  Ces 10 plats autrefois dédaignés sont désormai...   \n",
      "6058           Autre  Cette recette qui détrônera les autres pour l'...   \n",
      "6078           Autre               Ce cocktail détrône tous les autres!   \n",
      "6084           Autre  Les raisons pour lesquelles certains aiment la...   \n",
      "\n",
      "     Ingrédients Étapes  \n",
      "5            NaN    NaN  \n",
      "11           NaN    NaN  \n",
      "31           NaN    NaN  \n",
      "37           NaN    NaN  \n",
      "1017         NaN    NaN  \n",
      "1023         NaN    NaN  \n",
      "1043         NaN    NaN  \n",
      "1049         NaN    NaN  \n",
      "2029         NaN    NaN  \n",
      "2035         NaN    NaN  \n",
      "2055         NaN    NaN  \n",
      "2061         NaN    NaN  \n",
      "3041         NaN    NaN  \n",
      "3047         NaN    NaN  \n",
      "3067         NaN    NaN  \n",
      "3073         NaN    NaN  \n",
      "4053         NaN    NaN  \n",
      "4059         NaN    NaN  \n",
      "4079         NaN    NaN  \n",
      "4085         NaN    NaN  \n",
      "5065         NaN    NaN  \n",
      "5071         NaN    NaN  \n",
      "5091         NaN    NaN  \n",
      "5097         NaN    NaN  \n",
      "5595         NaN    NaN  \n",
      "5601         NaN    NaN  \n",
      "5621         NaN    NaN  \n",
      "5627         NaN    NaN  \n",
      "6052         NaN    NaN  \n",
      "6058         NaN    NaN  \n",
      "6078         NaN    NaN  \n",
      "6084         NaN    NaN  \n"
     ]
    }
   ],
   "source": [
    "\n",
    "# Afficher les catégories et les recettes concernées\n",
    "print(\"\\n📌 Recettes sans ingrédients et sans étapes :\")\n",
    "print(missing_ingredients_and_steps[['Catégorie', 'Nom','Ingrédients', 'Étapes']])"
   ]
  },
  {
   "cell_type": "code",
   "execution_count": 31,
   "metadata": {},
   "outputs": [
    {
     "name": "stdout",
     "output_type": "stream",
     "text": [
      "\n",
      " Recettes sans ingrédients et sans étapes :\n",
      "           Catégorie                                                Nom   \n",
      "10          Apéritif  7 apéritifs de dernière minute pour le dîner :...  \\\n",
      "22          Apéritif  LA recette parfaite pour les mordus de fromage...   \n",
      "49          Apéritif  Ces recettes chics et pas chères qui vont révo...   \n",
      "52          Apéritif  Apéritif dînatoire: des idées-recettes faciles...   \n",
      "1089          Entrée  Voici 5 recettes d'entrées sans cuisson et sup...   \n",
      "1092          Entrée             Apéritifs et entrées avec du Foie gras   \n",
      "1122          Entrée  9 \"finger foods\" végétariens qui vont sublimer...   \n",
      "1125          Entrée                 4 types d'entrées pour les enfants   \n",
      "2225            Plat  Pour le réveillon du Nouvel An, vaut-il mieux ...   \n",
      "2234            Plat  Vous utilisez sûrement mal la fleur de sel, et...   \n",
      "2239            Plat  Gratin parfait : découvrez les secrets d’une t...   \n",
      "2259           Autre  Ces 10 plats autrefois dédaignés sont désormai...   \n",
      "2260            Plat  Ces 10 plats autrefois dédaignés sont désormai...   \n",
      "3299         Dessert  Éblouissez vos convives avec ces 8 desserts in...   \n",
      "3324         Dessert  Rappel produit : ce flan nappé au caramel reti...   \n",
      "3330         Dessert  Attention : des morceaux de verre signalés dan...   \n",
      "3344         Dessert  Vous avez reçu un Air Fryer à Noël? Réalisez c...   \n",
      "3345          Goûter  Vous avez reçu un Air Fryer à Noël? Réalisez c...   \n",
      "4366          Goûter           Nos recettes incroyables pour le goûter!   \n",
      "4373          Goûter  Le goûter d'hiver à faire avec seulement 2 ing...   \n",
      "4384          Goûter  Des goûters maison irrésistibles pour la rentr...   \n",
      "5368         Boisson  Boire ce thé japonais réduirait considérableme...   \n",
      "5380         Boisson  Vous pensiez que l'eau était la meilleure pour...   \n",
      "5395         Boisson  5 idées de cocktails sans alcool pour un Dry J...   \n",
      "5408         Boisson  Vin chaud maison : la boisson de Noël qui réch...   \n",
      "5929  Accompagnement  Quel accompagnement pour une fondue bourguigno...   \n",
      "5934  Accompagnement  On a trouvé l'accompagnement parfait pour vos ...   \n",
      "5957  Accompagnement  Quel accompagnement pour du boudin blanc ou noir?   \n",
      "5961  Accompagnement               Quel accompagnement pour du poisson?   \n",
      "6407           Autre  Les raisons pour lesquelles certains aiment la...   \n",
      "6439           Autre  Ce calendrier de l'Avent est mieux que tous le...   \n",
      "6449           Autre  Un apéritif plus sain grâce à nos dips, sauces...   \n",
      "\n",
      "     Ingrédients Étapes  \n",
      "10           NaN    NaN  \n",
      "22           NaN    NaN  \n",
      "49           NaN    NaN  \n",
      "52           NaN    NaN  \n",
      "1089         NaN    NaN  \n",
      "1092         NaN    NaN  \n",
      "1122         NaN    NaN  \n",
      "1125         NaN    NaN  \n",
      "2225         NaN    NaN  \n",
      "2234         NaN    NaN  \n",
      "2239         NaN    NaN  \n",
      "2259         NaN    NaN  \n",
      "2260         NaN    NaN  \n",
      "3299         NaN    NaN  \n",
      "3324         NaN    NaN  \n",
      "3330         NaN    NaN  \n",
      "3344         NaN    NaN  \n",
      "3345         NaN    NaN  \n",
      "4366         NaN    NaN  \n",
      "4373         NaN    NaN  \n",
      "4384         NaN    NaN  \n",
      "5368         NaN    NaN  \n",
      "5380         NaN    NaN  \n",
      "5395         NaN    NaN  \n",
      "5408         NaN    NaN  \n",
      "5929         NaN    NaN  \n",
      "5934         NaN    NaN  \n",
      "5957         NaN    NaN  \n",
      "5961         NaN    NaN  \n",
      "6407         NaN    NaN  \n",
      "6439         NaN    NaN  \n",
      "6449         NaN    NaN  \n",
      "\n",
      " Le fichier nettoyé a été enregistré sous recettes_propres.csv\n"
     ]
    }
   ],
   "source": [
    "import pandas as pd\n",
    "\n",
    "# Charger le fichier CSV contenant les recettes extraites\n",
    "df = pd.read_csv(\"recettes.csv\", encoding=\"utf-8\")\n",
    "\n",
    "# Identifier les recettes sans ingrédients et sans étapes\n",
    "missing_ingredients_and_steps = df[(df[\"Ingrédients\"].isna() | (df[\"Ingrédients\"].str.strip() == \"\") | (df[\"Ingrédients\"] == \"Non spécifié\")) &\n",
    "                                   (df[\"Étapes\"].isna() | (df[\"Étapes\"].str.strip() == \"\") | (df[\"Étapes\"] == \"Non spécifié\"))]\n",
    "\n",
    "# Supprimer ces recettes du dataframe\n",
    "df_cleaned = df.drop(missing_ingredients_and_steps.index)\n",
    "\n",
    "# Sauvegarder le fichier CSV mis à jour\n",
    "output_cleaned_csv = \"recettes_propres.csv\"\n",
    "df_cleaned.to_csv(output_cleaned_csv, index=False, encoding=\"utf-8\")\n",
    "\n",
    "# Afficher les recettes supprimées\n",
    "print(\"\\n Recettes sans ingrédients et sans étapes :\")\n",
    "print(missing_ingredients_and_steps[['Catégorie', 'Nom', 'Ingrédients', 'Étapes']])\n",
    "\n",
    "print(f\"\\n Le fichier nettoyé a été enregistré sous {output_cleaned_csv}\")\n"
   ]
  },
  {
   "cell_type": "code",
   "execution_count": 32,
   "metadata": {},
   "outputs": [
    {
     "name": "stdout",
     "output_type": "stream",
     "text": [
      "\n",
      " Aucune valeur manquante détectée dans le fichier nettoyé !\n"
     ]
    }
   ],
   "source": [
    "import pandas as pd\n",
    "\n",
    "# Charger le fichier nettoyé\n",
    "df_cleaned = pd.read_csv(\"recettes_propres.csv\", encoding=\"utf-8\")\n",
    "\n",
    "# Vérifier les valeurs manquantes par colonne\n",
    "missing_values = df_cleaned.isna().sum()\n",
    "\n",
    "# Afficher uniquement les colonnes ayant des valeurs manquantes\n",
    "missing_values = missing_values[missing_values > 0]\n",
    "\n",
    "if not missing_values.empty:\n",
    "    print(\"\\n Colonnes avec des valeurs manquantes :\")\n",
    "    print(missing_values)\n",
    "else:\n",
    "    print(\"\\n Aucune valeur manquante détectée dans le fichier nettoyé !\")\n"
   ]
  },
  {
   "cell_type": "code",
   "execution_count": 34,
   "metadata": {},
   "outputs": [
    {
     "name": "stdout",
     "output_type": "stream",
     "text": [
      "\n",
      "📌 Recettes redondantes dans une même catégorie :\n",
      "               Catégorie                                                Nom\n",
      "314             Apéritif                              Macarons au foie gras\n",
      "550             Apéritif                    Cookies chorizo-tomates séchées\n",
      "564             Apéritif                    Cookies chorizo-tomates séchées\n",
      "701             Apéritif  Croustillants carottes curry pour apéro minceu...\n",
      "702   Recettes de saison  Croustillants carottes curry pour apéro minceu...\n",
      "...                  ...                                                ...\n",
      "7285               Autre                    Tarte crumble aux fruits rouges\n",
      "7320               Autre                                          Raffaello\n",
      "7710  Recettes de saison                       Tatin d'endives au maroilles\n",
      "8031  Recettes de saison                               Crozets aux poireaux\n",
      "8176  Recettes de saison                       Tatin d'endives au maroilles\n",
      "\n",
      "[65 rows x 2 columns]\n",
      "\n",
      "📌 Recettes redondantes dans des catégories différentes :\n",
      "               Catégorie                                                Nom\n",
      "18              Apéritif             Roulés de saumon au chèvre et asperges\n",
      "19    Recettes de saison             Roulés de saumon au chèvre et asperges\n",
      "28              Apéritif      Verrines à la betterave et mousse de roquette\n",
      "29    Recettes de saison      Verrines à la betterave et mousse de roquette\n",
      "38              Apéritif                    Muffins à la fondue de poireaux\n",
      "...                  ...                                                ...\n",
      "7373               Autre                              Biscuits aux carottes\n",
      "7380  Recettes de saison  Muffins au gruau, carottes avec fromage mascar...\n",
      "7381               Autre  Muffins au gruau, carottes avec fromage mascar...\n",
      "7490  Recettes de saison                    Gaspacho de pastèque et fraises\n",
      "8043  Recettes de saison                              Confiture de carottes\n",
      "\n",
      "[790 rows x 2 columns]\n"
     ]
    }
   ],
   "source": [
    "# Trouver les recettes dupliquées dans une même catégorie\n",
    "duplicates_in_same_category = df_cleaned[df_cleaned.duplicated(subset=['Nom', 'Catégorie'], keep=False)]\n",
    "\n",
    "# Trouver les recettes dupliquées dans différentes catégories\n",
    "duplicates_in_different_categories = df_cleaned[df_cleaned.duplicated(subset=['Nom'], keep=False) & \n",
    "                                                ~df_cleaned.duplicated(subset=['Nom', 'Catégorie'], keep=False)]\n",
    "\n",
    "# Afficher les résultats\n",
    "print(\"\\n📌 Recettes redondantes dans une même catégorie :\")\n",
    "if not duplicates_in_same_category.empty:\n",
    "    print(duplicates_in_same_category[['Catégorie', 'Nom']])\n",
    "else:\n",
    "    print(\"✅ Aucune recette redondante dans une même catégorie.\")\n",
    "\n",
    "print(\"\\n📌 Recettes redondantes dans des catégories différentes :\")\n",
    "if not duplicates_in_different_categories.empty:\n",
    "    print(duplicates_in_different_categories[['Catégorie', 'Nom']])\n",
    "else:\n",
    "    print(\"✅ Aucune recette redondante dans des catégories différentes.\")\n",
    "\n"
   ]
  },
  {
   "cell_type": "code",
   "execution_count": 35,
   "metadata": {},
   "outputs": [
    {
     "name": "stdout",
     "output_type": "stream",
     "text": [
      "\n",
      " Recettes redondantes dans une même catégorie supprimées !\n"
     ]
    }
   ],
   "source": [
    "# Supprimer les doublons dans la même catégorie en gardant la première occurrence\n",
    "df_cleaned_unique = df_cleaned.drop_duplicates(subset=['Nom', 'Catégorie'], keep='first')\n",
    "\n",
    "# Sauvegarder le fichier nettoyé\n",
    "df_cleaned_unique.to_csv(\"recettes_sans_doublons.csv\", index=False, encoding=\"utf-8\")\n",
    "\n",
    "print(\"\\n Recettes redondantes dans une même catégorie supprimées !\")\n"
   ]
  },
  {
   "cell_type": "code",
   "execution_count": 37,
   "metadata": {},
   "outputs": [
    {
     "name": "stdout",
     "output_type": "stream",
     "text": [
      "\n",
      " Il n'y a plus de doublons dans une même catégorie !\n"
     ]
    }
   ],
   "source": [
    "# Vérifier s'il reste des doublons après suppression\n",
    "remaining_duplicates = df_cleaned_unique[df_cleaned_unique.duplicated(subset=['Nom', 'Catégorie'], keep=False)]\n",
    "\n",
    "if remaining_duplicates.empty:\n",
    "    print(\"\\n Il n'y a plus de doublons dans une même catégorie !\")\n",
    "else:\n",
    "    print(\"\\n Des doublons persistent :\")\n",
    "    print(remaining_duplicates[['Nom', 'Catégorie']])\n"
   ]
  },
  {
   "cell_type": "code",
   "execution_count": 38,
   "metadata": {},
   "outputs": [],
   "source": [
    "df_cleaned_unique.to_csv(\"recettes_sans_doublons.csv\", index=False, encoding='utf-8')"
   ]
  },
  {
   "cell_type": "markdown",
   "metadata": {},
   "source": [
    "Traitement du nouveau fichier sans doublons"
   ]
  },
  {
   "cell_type": "code",
   "execution_count": 39,
   "metadata": {},
   "outputs": [
    {
     "name": "stdout",
     "output_type": "stream",
     "text": [
      "\n",
      " Dimension du fichier : (8674, 11)\n"
     ]
    }
   ],
   "source": [
    "import pandas as pd\n",
    "\n",
    "# Charger le fichier nettoyé\n",
    "df_final = pd.read_csv(\"recettes_sans_doublons.csv\", encoding='utf-8')\n",
    "\n",
    "# Afficher la dimension (nombre de lignes, nombre de colonnes)\n",
    "print(f\"\\n Dimension du fichier : {df_final.shape}\")\n"
   ]
  },
  {
   "cell_type": "code",
   "execution_count": 40,
   "metadata": {},
   "outputs": [
    {
     "name": "stdout",
     "output_type": "stream",
     "text": [
      "\n",
      " Valeurs manquantes par colonne :\n",
      "Series([], dtype: int64)\n"
     ]
    }
   ],
   "source": [
    "# Vérifier les valeurs manquantes\n",
    "missing_values = df_final.isnull().sum()\n",
    "\n",
    "# Afficher uniquement les colonnes ayant des valeurs manquantes\n",
    "print(\"\\n Valeurs manquantes par colonne :\")\n",
    "print(missing_values[missing_values > 0])\n"
   ]
  },
  {
   "cell_type": "code",
   "execution_count": 42,
   "metadata": {},
   "outputs": [
    {
     "name": "stdout",
     "output_type": "stream",
     "text": [
      "\n",
      " Il n'y a pas de doublons dans une même catégorie !\n"
     ]
    }
   ],
   "source": [
    "# Trouver les doublons exacts sur 'Nom' et 'Catégorie'\n",
    "duplicates_same_category = df_final[df_final.duplicated(subset=['Nom', 'Catégorie'], keep=False)]\n",
    "\n",
    "if duplicates_same_category.empty:\n",
    "    print(\"\\n Il n'y a pas de doublons dans une même catégorie !\")\n",
    "else:\n",
    "    print(\"\\n Recettes redondantes dans une même catégorie :\")\n",
    "    print(duplicates_same_category[['Nom', 'Catégorie']].drop_duplicates())\n"
   ]
  },
  {
   "cell_type": "code",
   "execution_count": 43,
   "metadata": {},
   "outputs": [
    {
     "name": "stdout",
     "output_type": "stream",
     "text": [
      "\n",
      " Recettes redondantes dans des catégories différentes :\n",
      "                                                    Nom           Catégorie\n",
      "18               Roulés de saumon au chèvre et asperges            Apéritif\n",
      "19               Roulés de saumon au chèvre et asperges  Recettes de saison\n",
      "28        Verrines à la betterave et mousse de roquette            Apéritif\n",
      "29        Verrines à la betterave et mousse de roquette  Recettes de saison\n",
      "38                      Muffins à la fondue de poireaux            Apéritif\n",
      "...                                                 ...                 ...\n",
      "7342                              Biscuits aux carottes               Autre\n",
      "7349  Muffins au gruau, carottes avec fromage mascar...  Recettes de saison\n",
      "7350  Muffins au gruau, carottes avec fromage mascar...               Autre\n",
      "7459                    Gaspacho de pastèque et fraises  Recettes de saison\n",
      "8011                              Confiture de carottes  Recettes de saison\n",
      "\n",
      "[800 rows x 2 columns]\n"
     ]
    }
   ],
   "source": [
    "# Trouver les recettes ayant le même nom mais dans des catégories différentes\n",
    "duplicates_diff_category = df_final[df_final.duplicated(subset=['Nom'], keep=False)]\n",
    "\n",
    "if duplicates_diff_category.empty:\n",
    "    print(\"\\n Il n'y a **pas** de doublons dans des catégories différentes !\")\n",
    "else:\n",
    "    print(\"\\n Recettes redondantes dans des catégories différentes :\")\n",
    "    print(duplicates_diff_category[['Nom', 'Catégorie']].drop_duplicates())\n"
   ]
  },
  {
   "cell_type": "code",
   "execution_count": 44,
   "metadata": {},
   "outputs": [
    {
     "name": "stdout",
     "output_type": "stream",
     "text": [
      "<bound method NDFrame.head of                          Category   \n",
      "0                Mode Sans gluten  \\\n",
      "1                Mode Sans gluten   \n",
      "2                Mode Sans gluten   \n",
      "3                Mode Sans gluten   \n",
      "4                Mode Sans gluten   \n",
      "..                            ...   \n",
      "465  Spécial allergie alimentaire   \n",
      "466  Spécial allergie alimentaire   \n",
      "467  Spécial allergie alimentaire   \n",
      "468  Spécial allergie alimentaire   \n",
      "469  Spécial allergie alimentaire   \n",
      "\n",
      "                                           Recipe_Link  \n",
      "0    https://www.ptitchef.com/recettes/gouter/fonda...  \n",
      "1    https://www.ptitchef.com/recettes/dessert/crep...  \n",
      "2    https://www.ptitchef.com/recettes/dessert/far-...  \n",
      "3    https://www.ptitchef.com/recettes/dessert/bisc...  \n",
      "4    https://www.ptitchef.com/recettes/dessert/flan...  \n",
      "..                                                 ...  \n",
      "465  https://www.ptitchef.com/recettes/dessert/cook...  \n",
      "466  https://www.ptitchef.com/recettes/dessert/pann...  \n",
      "467  https://www.ptitchef.com/recettes/autre/moelle...  \n",
      "468  https://www.ptitchef.com/recettes/dessert/gate...  \n",
      "469  https://www.ptitchef.com/dossiers/recettes/all...  \n",
      "\n",
      "[470 rows x 2 columns]>\n"
     ]
    }
   ],
   "source": [
    "import pandas as pd\n",
    "\n",
    "# Charger le fichier CSV\n",
    "df3 = pd.read_csv(\"recipe_special_mode_links.csv\")\n",
    "print(df3.head)"
   ]
  },
  {
   "cell_type": "code",
   "execution_count": null,
   "metadata": {},
   "outputs": [],
   "source": [
    "\n",
    "# Vérifier les doublons sur la colonne des liens\n",
    "duplicates = df[df.duplicated(subset=['Recipe_Link'], keep=False)]  # `keep=False` affiche tous les doublons\n",
    "\n",
    "# Afficher les doublons avec leur catégorie\n",
    "if not duplicates.empty:\n",
    "    print(\"Exemples de liens redondants avec leurs catégories :\\n\")\n",
    "    print(duplicates.sort_values(by=['Recipe_Link']).head(20))  # Trier par lien pour mieux voir les doublons\n",
    "else:\n",
    "    print(\"Aucun lien redondant trouvé.\")\n",
    "\n",
    "# Vérifier si un même lien appartient à plusieurs catégories\n",
    "category_check = duplicates.groupby('Recipe_Link')['Categories'].nunique().reset_index()\n",
    "multiple_categories = category_check[category_check['Categories'] > 1]\n",
    "\n",
    "# Afficher les liens qui apparaissent dans plusieurs catégories\n",
    "if not multiple_categories.empty:\n",
    "    print(\"\\nLiens qui appartiennent à plusieurs catégories :\\n\")\n",
    "    print(multiple_categories)\n",
    "else:\n",
    "    print(\"\\nTous les liens redondants appartiennent à la même catégorie.\")"
   ]
  }
 ],
 "metadata": {
  "kernelspec": {
   "display_name": "Python 3",
   "language": "python",
   "name": "python3"
  },
  "language_info": {
   "codemirror_mode": {
    "name": "ipython",
    "version": 3
   },
   "file_extension": ".py",
   "mimetype": "text/x-python",
   "name": "python",
   "nbconvert_exporter": "python",
   "pygments_lexer": "ipython3",
   "version": "3.11.2"
  }
 },
 "nbformat": 4,
 "nbformat_minor": 2
}
